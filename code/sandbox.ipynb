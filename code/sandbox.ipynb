{
 "metadata": {
  "language_info": {
   "codemirror_mode": {
    "name": "ipython",
    "version": 3
   },
   "file_extension": ".py",
   "mimetype": "text/x-python",
   "name": "python",
   "nbconvert_exporter": "python",
   "pygments_lexer": "ipython3",
   "version": "3.6.8"
  },
  "orig_nbformat": 4,
  "kernelspec": {
   "name": "python3",
   "display_name": "Python 3.6.8 64-bit"
  },
  "interpreter": {
   "hash": "f6ad99063cec74988bb9aaf48bfac869df68eb133cb673bd68f7f965ff7d24c2"
  }
 },
 "nbformat": 4,
 "nbformat_minor": 2,
 "cells": [
  {
   "cell_type": "code",
   "execution_count": 1,
   "metadata": {},
   "outputs": [],
   "source": [
    "import bfr"
   ]
  },
  {
   "cell_type": "code",
   "execution_count": 5,
   "metadata": {},
   "outputs": [
    {
     "output_type": "execute_result",
     "data": {
      "text/plain": [
       "defaultdict(set, {0: {(1, 2)}})"
      ]
     },
     "metadata": {},
     "execution_count": 5
    }
   ],
   "source": [
    "points = [((1, 2))]\n",
    "\n",
    "kmeans = bfr.KMeans(points, 1)\n",
    "kmeans.run()\n",
    "kmeans.get_cluster_data()"
   ]
  }
 ]
}